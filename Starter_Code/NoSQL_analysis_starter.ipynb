{
 "cells": [
  {
   "cell_type": "markdown",
   "id": "9a57c4c6",
   "metadata": {},
   "source": [
    "# Eat Safe, Love"
   ]
  },
  {
   "cell_type": "markdown",
   "id": "064ef857",
   "metadata": {},
   "source": [
    "## Notebook Set Up"
   ]
  },
  {
   "cell_type": "code",
   "execution_count": null,
   "id": "3ecdd008",
   "metadata": {},
   "outputs": [],
   "source": [
    "from pymongo import MongoClient\n",
    "import pandas as pd\n",
    "from pprint import pprint"
   ]
  },
  {
   "cell_type": "code",
   "execution_count": null,
   "id": "59390c4a",
   "metadata": {},
   "outputs": [],
   "source": [
    "# Create an instance of MongoClient\n",
    "mongo = MongoClient(port=27017)"
   ]
  },
  {
   "cell_type": "code",
   "execution_count": null,
   "id": "71e373c1",
   "metadata": {},
   "outputs": [],
   "source": [
    "# assign the uk_food database to a variable name\n",
    "db = mongo['uk_food']"
   ]
  },
  {
   "cell_type": "code",
   "execution_count": null,
   "id": "18ab463c",
   "metadata": {},
   "outputs": [],
   "source": [
    "# review the collections in our database\n",
    "collection_names = db.list_collection_names()\n",
    "print(\"Collections in the 'uk_food' database:\")\n",
    "for name in collection_names:\n",
    "    print(name)"
   ]
  },
  {
   "cell_type": "code",
   "execution_count": null,
   "id": "11c9f11b",
   "metadata": {},
   "outputs": [],
   "source": [
    "# assign the collection to a variable\n",
    "establishments = db['establishments']"
   ]
  },
  {
   "cell_type": "markdown",
   "id": "d5671434",
   "metadata": {},
   "source": [
    "## Part 3: Exploratory Analysis\n",
    "Unless otherwise stated, for each question: \n",
    "* Use `count_documents` to display the number of documents contained in the result.\n",
    "* Display the first document in the results using `pprint`.\n",
    "* Convert the result to a Pandas DataFrame, print the number of rows in the DataFrame, and display the first 10 rows."
   ]
  },
  {
   "cell_type": "markdown",
   "id": "314bd884",
   "metadata": {},
   "source": [
    "### 1. Which establishments have a hygiene score equal to 20?"
   ]
  },
  {
   "cell_type": "code",
   "execution_count": null,
   "id": "c2da7648",
   "metadata": {},
   "outputs": [],
   "source": [
    "# Find the establishments with a hygiene score of 20\n",
    "query = {\"scores.Hygiene\": 20}\n",
    "\n",
    "# Use count_documents to display the number of documents in the result\n",
    "count = establishments.count_documents(query)\n",
    "print(f\"Number of establishments with a hygiene score of 20: {count}\")\n",
    "\n",
    "# Display the first document in the results using pprint\n",
    "first_document = establishments.find_one(query)\n",
    "print(\"First establishment with a hygiene score of 20:\")\n",
    "pprint(first_document)"
   ]
  },
  {
   "cell_type": "code",
   "execution_count": null,
   "id": "a6e5cece",
   "metadata": {},
   "outputs": [],
   "source": [
    "# Convert the result to a Pandas DataFrame\n",
    "documents = establishments.find(query)\n",
    "df = pd.DataFrame(list(documents))\n",
    "\n",
    "print(\"DataFrame created from the query result:\")\n",
    "print(df)\n",
    "\n",
    "# Display the number of rows in the DataFrame\n",
    "print(f\"Number of rows in the DataFrame: {df.shape[0]}\")\n",
    "\n",
    "# Display the first 10 rows of the DataFrame\n",
    "print(\"First 10 rows of the DataFrame:\")\n",
    "print(df.head(10))"
   ]
  },
  {
   "cell_type": "markdown",
   "id": "0ef4395a",
   "metadata": {},
   "source": [
    "### 2. Which establishments in London have a `RatingValue` greater than or equal to 4?"
   ]
  },
  {
   "cell_type": "code",
   "execution_count": null,
   "id": "93c63829",
   "metadata": {},
   "outputs": [],
   "source": [
    "# Find the establishments with London as the Local Authority and has a RatingValue greater than or equal to 4.\n",
    "query = {\"LocalAuthorityName\": \"London\", \"RatingValue\": {\"$gte\": 4}}\n",
    "\n",
    "# Use count_documents to display the number of documents in the result\n",
    "count = establishments.count_documents(query)\n",
    "print(f\"Number of establishments in London with a RatingValue of 4 or higher: {count}\")\n",
    "\n",
    "# Display the first document in the results using pprint\n",
    "first_document = establishments.find_one(query)\n",
    "print(\"First establishment in London with a RatingValue of 4 or higher:\")\n",
    "pprint(first_document)\n"
   ]
  },
  {
   "cell_type": "code",
   "execution_count": null,
   "id": "07e24ccb",
   "metadata": {},
   "outputs": [],
   "source": [
    "# Convert the result to a Pandas DataFrame\n",
    "general_query = {}  # An empty query matches all documents\n",
    "documents = establishments.find(general_query).limit(10)\n",
    "df = pd.DataFrame(list(documents))\n",
    "\n",
    "# Display the number of rows in the DataFrame\n",
    "print(f\"Number of rows in the DataFrame: {df.shape[0]}\")\n",
    "\n",
    "# Display the first 10 rows of the DataFrame\n",
    "print(\"First 10 rows of the DataFrame:\")\n",
    "print(df.head(10))"
   ]
  },
  {
   "cell_type": "markdown",
   "id": "4e570caf",
   "metadata": {},
   "source": [
    "### 3. What are the top 5 establishments with a `RatingValue` rating value of 5, sorted by lowest hygiene score, nearest to the new restaurant added, \"Penang Flavours\"?"
   ]
  },
  {
   "cell_type": "code",
   "execution_count": null,
   "id": "7f599f3d",
   "metadata": {},
   "outputs": [],
   "source": [
    "# Search within 0.01 degree on either side of the latitude and longitude.\n",
    "# Rating value must equal 5\n",
    "# Sort by hygiene score\n",
    "degree_search = 0.01\n",
    "latitude = 0.01\n",
    "longitude = 0.01\n",
    "\n",
    "latitude = float(latitude)\n",
    "longitude = float(longitude)\n",
    "\n",
    "query = {\n",
    "    \"RatingValue\": 5,\n",
    "    \"geocode.latitude\": {\"$gte\": latitude - degree_search, \"$lte\": latitude + degree_search},\n",
    "    \"geocode.longitude\": {\"$gte\": longitude - degree_search, \"$lte\": longitude + degree_search}\n",
    "}\n",
    "sort =  sort = [(\"scores.Hygiene\", 1)]  #ascending order\n",
    "\n",
    "# Print\n",
    "print(df)"
   ]
  },
  {
   "cell_type": "code",
   "execution_count": null,
   "id": "a6ad16f7",
   "metadata": {},
   "outputs": [],
   "source": [
    "# Convert result to Pandas DataFrame\n"
   ]
  },
  {
   "cell_type": "markdown",
   "id": "67281254",
   "metadata": {},
   "source": [
    "### 4. How many establishments in each Local Authority area have a hygiene score of 0?"
   ]
  },
  {
   "cell_type": "code",
   "execution_count": null,
   "id": "4eeb227e",
   "metadata": {},
   "outputs": [],
   "source": [
    "# Create a pipeline that: \n",
    "pipeline = [\n",
    "    # 1. Matches establishments with a hygiene score of 0\n",
    "    {\"$match\": {\"scores.Hygiene\": 0}},\n",
    "    \n",
    "   # 2. Groups the matches by Local Authority\n",
    "    {\"$group\": {\"_id\": \"$LocalAuthorityName\", \"count\": {\"$sum\": 1}}},\n",
    "    \n",
    "    # 3. Sorts the matches from highest to lowest\n",
    "    {\"$sort\": {\"count\": -1}}\n",
    "]\n",
    "\n",
    "results = list(establishments.aggregate(pipeline))\n",
    "\n",
    "# Print the number of documents in the result\n",
    "print(f\"Number of documents in the result: {len(results)}\")\n",
    "\n",
    "# Print the first 10 results\n",
    "print(\"First 10 results:\")\n",
    "for result in results[:10]:\n",
    "    print(result)"
   ]
  },
  {
   "cell_type": "code",
   "execution_count": null,
   "id": "d8aab364",
   "metadata": {},
   "outputs": [],
   "source": [
    "# Convert the result to a Pandas DataFrame\n",
    "df = pd.DataFrame(results)\n",
    "\n",
    "# Display the number of rows in the DataFrame\n",
    "print(f\"Number of rows in the DataFrame: {df.shape[0]}\")\n",
    "\n",
    "# Display the first 10 rows of the DataFrame\n",
    "print(\"First 10 rows of the DataFrame:\")\n",
    "print(df.head(10))\n"
   ]
  }
 ],
 "metadata": {
  "kernelspec": {
   "display_name": "Python 3 (ipykernel)",
   "language": "python",
   "name": "python3"
  },
  "language_info": {
   "codemirror_mode": {
    "name": "ipython",
    "version": 3
   },
   "file_extension": ".py",
   "mimetype": "text/x-python",
   "name": "python",
   "nbconvert_exporter": "python",
   "pygments_lexer": "ipython3",
   "version": "3.11.4"
  }
 },
 "nbformat": 4,
 "nbformat_minor": 5
}
